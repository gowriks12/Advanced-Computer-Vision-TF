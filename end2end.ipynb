{
  "nbformat": 4,
  "nbformat_minor": 0,
  "metadata": {
    "colab": {
      "provenance": [],
      "collapsed_sections": [],
      "mount_file_id": "1Dh9n46HC080cIf8N9GF4XJVLTLdVMCtN",
      "authorship_tag": "ABX9TyNxrQTIpkgIg6dCXFWm9Dkx",
      "include_colab_link": true
    },
    "kernelspec": {
      "name": "python3",
      "display_name": "Python 3"
    },
    "language_info": {
      "name": "python"
    },
    "accelerator": "GPU"
  },
  "cells": [
    {
      "cell_type": "markdown",
      "metadata": {
        "id": "view-in-github",
        "colab_type": "text"
      },
      "source": [
        "<a href=\"https://colab.research.google.com/github/gowriks12/Advanced-Computer-Vision-TF/blob/main/end2end.ipynb\" target=\"_parent\"><img src=\"https://colab.research.google.com/assets/colab-badge.svg\" alt=\"Open In Colab\"/></a>"
      ]
    },
    {
      "cell_type": "code",
      "execution_count": null,
      "metadata": {
        "id": "p7nLuv8RfXpP"
      },
      "outputs": [],
      "source": [
        "!pip install imageai\n",
        "!pip install tensorflow\n",
        "!pip install pickle-mixin\n",
        "!pip install mediapipe\n",
        "!pip install scikit-learn==1.0"
      ]
    },
    {
      "cell_type": "code",
      "source": [
        "!pip install pydrive                             # Package to use Google Drive API - not installed in Colab VM by default\n",
        "from pydrive.auth import GoogleAuth\n",
        "from pydrive.drive import GoogleDrive\n",
        "\n",
        "from google.colab import auth                    # Other necessary packages\n",
        "from oauth2client.client import GoogleCredentials\n",
        "\n",
        "auth.authenticate_user()                         # Follow prompt in the authorization process\n",
        "gauth = GoogleAuth()\n",
        "gauth.credentials = GoogleCredentials.get_application_default()\n",
        "\n",
        "drive = GoogleDrive(gauth)\n",
        "\n",
        "your_module = drive.CreateFile({\"id\": \"1Mt8zu_E33EByGSb3MNHN30voaSpOhmtq\"})   # \"your_module_file_id\" is the part after \"id=\" in the shareable link\n",
        "your_module.GetContentFile(\"PoseModule.py\")          # Save the .py module file to Colab VM"
      ],
      "metadata": {
        "id": "uWPnjKmYfhMg"
      },
      "execution_count": null,
      "outputs": []
    },
    {
      "cell_type": "code",
      "source": [
        "# !pip install imageai\n",
        "from imageai.Detection import ObjectDetection\n",
        "import os\n",
        "import pickle\n",
        "from sklearn import preprocessing\n",
        "import numpy as np\n",
        "from google.colab.patches import cv2_imshow\n",
        "import cv2\n",
        "from skimage.color import rgb2gray\n",
        "from skimage.transform import resize\n",
        "import matplotlib.pyplot as plt\n",
        "import math\n",
        "import PoseModule as pm"
      ],
      "metadata": {
        "id": "eQwNUnN9fkmA"
      },
      "execution_count": 2,
      "outputs": []
    },
    {
      "cell_type": "code",
      "source": [
        "detector = ObjectDetection()\n",
        "detector.setModelTypeAsRetinaNet()\n",
        "execution_path = \"/content/drive/MyDrive/Colab Notebooks/Thesis-object-detection\"\n",
        "detector.setModelPath( os.path.join(execution_path , \"resnet50_coco_best_v2.1.0.h5\"))\n",
        "detector.loadModel()\n",
        "poseDetector = pm.PoseDetector()\n",
        "# poseDetector.poseClassifier()\n",
        "loaded_model = pickle.load(open(os.path.join(execution_path , 'knn_r_pca_pipe.sav'), 'rb'))\n",
        "# loaded_model = pickle.load(open(os.path.join(execution_path , 'rf_pipe_pickle.sav'), 'rb'))\n",
        "custom_objects = detector.CustomObjects(person=True)\n",
        "folder_path = '/content/drive/MyDrive/Colab Notebooks/Thesis-object-detection/frames'\n",
        "\n",
        "output = []\n",
        "count = 0\n",
        "one_frame_each = 140\n",
        "for filename in os.listdir(folder_path):\n",
        "    if (count % one_frame_each == 0):                                   # checks frame number and keeps one_frame_each          \n",
        "        # success,image = vidcap.read() \n",
        "        image = cv2.imread(os.path.join(folder_path , filename))\n",
        "        op_img = \"temp.jpg\"                                # reads next frame           \n",
        "        detections = detector.detectCustomObjectsFromImage(custom_objects=custom_objects, input_image=os.path.join(folder_path , filename), output_image_path=os.path.join(folder_path , op_img), minimum_percentage_probability=30)\n",
        "        person_count = 0\n",
        "        for eachObject in detections:\n",
        "          person_count += 1\n",
        "          if eachObject[\"percentage_probability\"] > 65:\n",
        "            boxPoints = eachObject[\"box_points\"]\n",
        "            x1, y1, x2, y2 = boxPoints\n",
        "            top_left_x = min([x1,x2])\n",
        "            top_left_y = min([y1,y2])\n",
        "            bot_right_x = max([x1,x2])\n",
        "            bot_right_y = max([y1,y2])\n",
        "            cropped = image[top_left_y:bot_right_y+1, top_left_x:bot_right_x+1]\n",
        "            # crop,className = poseDetector.poseClassifier(cropped, loaded_model)\n",
        "            crop, className = poseDetector.poseClassifier(cropped, loaded_model)\n",
        "            row = [count, person_count, eachObject[\"percentage_probability\"], className]\n",
        "            output.append(row)         \n",
        "    else:\n",
        "      print(\"err\")\n",
        "        # success,image = vidcap.read()                                 # reads next frame    \n",
        "    count += 140 \n",
        "\n",
        "print(output)"
      ],
      "metadata": {
        "id": "UluL-Jjsfvw6"
      },
      "execution_count": null,
      "outputs": []
    },
    {
      "cell_type": "code",
      "source": [
        "output"
      ],
      "metadata": {
        "id": "flGl21Xnt1LM"
      },
      "execution_count": null,
      "outputs": []
    },
    {
      "cell_type": "code",
      "source": [
        "import pandas as pd\n",
        "def dataAnalyse(df):  \n",
        "  df = df.dropna()\n",
        "  mapping = {\n",
        "    \"Hand_on_chin\" : \"Intermediate1\",\n",
        "    \"Hand_on_head\" : \"Intermediate2\",\n",
        "    \"Hand_raised\" : \"Attentive\",\n",
        "    \"Hands_Crossed\" : \"Attentive\",\n",
        "    \"Leaning_Forward\" : \"Intermediate1\",\n",
        "    \"Looking_down\" : \"Intermediate2\",\n",
        "    \"Looking_to_the_side\" : \"Inattentive\",\n",
        "    \"Sitting_Straight\" : \"Attentive\",\n",
        "    \"Sleeping\" : \"Inattentive\",\n",
        "    \"Taking_Notes\" : \"Attentive\"\n",
        "  }\n",
        "  df['Classification'] = df['Pose'].map(mapping)\n",
        "  pie_data = pd.DataFrame(df['Classification'].value_counts(normalize=True) * 100)\n",
        "  plot_image = pie_data.plot(kind='pie', y = \"Classification\", autopct='%1.0f%%')\n",
        "  return plot_image\n",
        "\n",
        "\n",
        "df = pd.DataFrame.from_records(output, columns = [\"Frame No.\", \"Person No.\", \"Person Confidence\", \"Pose\"])\n",
        "img = dataAnalyse(df)\n",
        "\n",
        "# df = pd.DataFrame.from_records(out, columns = [\"Frame No.\", \"Person No.\", \"Person Confidence\", \"Pose\"])"
      ],
      "metadata": {
        "id": "9uOksPETBuAS",
        "colab": {
          "base_uri": "https://localhost:8080/",
          "height": 248
        },
        "outputId": "96a38a1f-c860-4e0e-9d54-6c35f304592c"
      },
      "execution_count": 5,
      "outputs": [
        {
          "output_type": "display_data",
          "data": {
            "text/plain": [
              "<Figure size 432x288 with 1 Axes>"
            ],
            "image/png": "[encoded data removed]"
          },
          "metadata": {}
        }
      ]
    },
    {
      "cell_type": "code",
      "source": [
        "import csv\n",
        "with open(os.path.join(execution_path , 'output_CSV.csv'), mode='w') as classification_file:\n",
        "    classification_writer = csv.writer(classification_file, delimiter=',', quoting=csv.QUOTE_MINIMAL)\n",
        "    classification_writer.writerow([\"Frame No.\", \"Person No.\", \"Person Confidence\", \"Pose\"])\n",
        "    for row in output:\n",
        "      classification_writer.writerow(row)"
      ],
      "metadata": {
        "id": "m1OFeEG2hKv0"
      },
      "execution_count": 6,
      "outputs": []
    },
    {
      "cell_type": "markdown",
      "source": [
        "Preview of the Pie Chart"
      ],
      "metadata": {
        "id": "iEFuoAWqCFCx"
      }
    },
    {
      "cell_type": "code",
      "source": [
        "# def single_person_pose(image,model):     \n",
        "#   loaded_model = model\n",
        "#   image = poseDetector.findPose(image, draw=False)\n",
        "#   lmList = poseDetector.findPosition(image, draw=False)\n",
        "#   if len(lmList) != 0:    \n",
        "#     (row, image) = poseDetector.regionFeatures(lmList, image)\n",
        "#     F = np.array([row])\n",
        "#     F.reshape(1, -1)\n",
        "#     # print(F.shape)\n",
        "#     scaler = preprocessing.StandardScaler().fit(F)\n",
        "#     row = scaler.transform(F)\n",
        "#     prediction = loaded_model.predict(F)\n",
        "#     className = prediction[0]\n",
        "#     return image, className\n",
        "#   else:\n",
        "#     return (image, \"null\")"
      ],
      "metadata": {
        "id": "HPrLNgyGAoQB"
      },
      "execution_count": null,
      "outputs": []
    }
  ]
}